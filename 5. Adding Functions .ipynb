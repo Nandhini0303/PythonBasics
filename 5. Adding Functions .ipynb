{
 "cells": [
  {
   "cell_type": "code",
   "execution_count": 27,
   "id": "d56943a4-d173-48ef-bbfc-48067728e06a",
   "metadata": {},
   "outputs": [],
   "source": [
    "# Creating the function to the list"
   ]
  },
  {
   "cell_type": "code",
   "execution_count": 29,
   "id": "019756e3-9195-43b3-8d1d-5c6c1e21ecd4",
   "metadata": {},
   "outputs": [],
   "source": [
    "def Subfields():\n",
    "    print(\"Sub-fields in AI are:\")\n",
    "    a = ['Machine Learning', 'Neural Networks', 'Vision', 'Robotics', 'Speech Processing', 'Natural Language Processing']\n",
    "    for items in a:\n",
    "        print(items)\n"
   ]
  },
  {
   "cell_type": "code",
   "execution_count": 30,
   "id": "5266abfa-604f-407c-827a-11dfe514b807",
   "metadata": {},
   "outputs": [
    {
     "name": "stdout",
     "output_type": "stream",
     "text": [
      "Sub-fields in AI are:\n",
      "Machine Learning\n",
      "Neural Networks\n",
      "Vision\n",
      "Robotics\n",
      "Speech Processing\n",
      "Natural Language Processing\n"
     ]
    }
   ],
   "source": [
    "Subfields()"
   ]
  },
  {
   "cell_type": "code",
   "execution_count": 28,
   "id": "299e423b-a8da-46d4-ac22-8b1b5ddb8aed",
   "metadata": {},
   "outputs": [],
   "source": [
    "#Adding the function to check whether it is odd or even"
   ]
  },
  {
   "cell_type": "code",
   "execution_count": 31,
   "id": "43defd2a-33db-4a53-95fe-9fbeedc2e9a9",
   "metadata": {},
   "outputs": [],
   "source": [
    "def OddEven():\n",
    "    num = int(input(\"Enter a number:\"))\n",
    "    if((num%2)==1):\n",
    "        print(num,\"is Odd Number\")\n",
    "    else:\n",
    "        print(num,\"is Even Number\")   \n",
    "     \n",
    "    "
   ]
  },
  {
   "cell_type": "code",
   "execution_count": 32,
   "id": "93dc8cf1-3928-4a83-a814-4d620e7d1396",
   "metadata": {},
   "outputs": [
    {
     "name": "stdin",
     "output_type": "stream",
     "text": [
      "Enter a number: 52452\n"
     ]
    },
    {
     "name": "stdout",
     "output_type": "stream",
     "text": [
      "52452 is Even Number\n"
     ]
    }
   ],
   "source": [
    "OddEven()"
   ]
  },
  {
   "cell_type": "code",
   "execution_count": 33,
   "id": "38944ec6-1e08-4d26-9004-e37a470e7519",
   "metadata": {},
   "outputs": [],
   "source": [
    "# Adding function to Check the Eligiblity of Marriage"
   ]
  },
  {
   "cell_type": "code",
   "execution_count": 34,
   "id": "01a7ee84-d6bd-41d7-aa6b-dc7974a480cb",
   "metadata": {},
   "outputs": [],
   "source": [
    "def Eligible():\n",
    "    Gender = str(input(\"Your Gender:\"))\n",
    "    Age = int(input(\"Your age:\"))\n",
    "    if (Gender ==\"Male\" and Age>=21):\n",
    "        print(\"ELIGIBLE\")\n",
    "    elif(Gender ==\"Female\" and Age>=18):\n",
    "        print(\"ELIGIBLE\")\n",
    "    else:\n",
    "        print(\"NOT ELIGIBLE\")"
   ]
  },
  {
   "cell_type": "code",
   "execution_count": 35,
   "id": "1dfccb71-dd7b-40b5-a779-710e8381550b",
   "metadata": {},
   "outputs": [
    {
     "name": "stdin",
     "output_type": "stream",
     "text": [
      "Your Gender: Male\n",
      "Your age: 20\n"
     ]
    },
    {
     "name": "stdout",
     "output_type": "stream",
     "text": [
      "NOT ELIGIBLE\n"
     ]
    }
   ],
   "source": [
    "Eligible()"
   ]
  },
  {
   "cell_type": "code",
   "execution_count": 36,
   "id": "9f9bb9e4-9f38-4522-852f-8ee1bb60f318",
   "metadata": {},
   "outputs": [],
   "source": [
    "# Adding function to calculate the percentage of your 10th mark"
   ]
  },
  {
   "cell_type": "code",
   "execution_count": 38,
   "id": "305352ae-fa07-4ab1-b823-2458619487d6",
   "metadata": {},
   "outputs": [],
   "source": [
    "def percentage():\n",
    "    a = int(input(\"Subject1 = \"))\n",
    "    b = int(input(\"Subject2 = \"))\n",
    "    c = int(input(\"Subject3 = \"))\n",
    "    d = int(input(\"Subject4 = \"))\n",
    "    e = int(input(\"Subject5 = \"))\n",
    "    Total = a+b+c+d+e\n",
    "    print(\"Total = \",Total)\n",
    "    Percentage = (Total / 500)*100\n",
    "    print(\"Percentage = \",Percentage)\n",
    "\n"
   ]
  },
  {
   "cell_type": "code",
   "execution_count": 39,
   "id": "fa514c62-3dbf-4dcc-9309-1465ec67d401",
   "metadata": {},
   "outputs": [
    {
     "name": "stdin",
     "output_type": "stream",
     "text": [
      "Subject1 =  98\n",
      "Subject2 =  87\n",
      "Subject3 =  95\n",
      "Subject4 =  95\n",
      "Subject5 =  93\n"
     ]
    },
    {
     "name": "stdout",
     "output_type": "stream",
     "text": [
      "Total =  468\n",
      "Percentage =  93.60000000000001\n"
     ]
    }
   ],
   "source": [
    "percentage()"
   ]
  },
  {
   "cell_type": "code",
   "execution_count": 40,
   "id": "25828036-6ed5-45ce-8030-986af2036ad9",
   "metadata": {},
   "outputs": [],
   "source": [
    "# Function for print area and perimeter of triangle using class and functions"
   ]
  },
  {
   "cell_type": "code",
   "execution_count": 43,
   "id": "5f7c16b0-1d82-4741-a6e6-1be5604d4499",
   "metadata": {},
   "outputs": [],
   "source": [
    "def triangle():\n",
    "    height = int(input(\"Height:\"))\n",
    "    breadth = int(input(\"Breadth:\"))\n",
    "    print(\"Area formula: (Height*Breadth)/2\")\n",
    "    print(f\"Area of Triangle: {height*breadth/2}\")\n",
    "    height1 = int(input(\"Height1:\"))\n",
    "    height2 = int(input(\"Height2:\"))\n",
    "    breadth1 = int(input(\"Breadth:\"))\n",
    "    print(\"Perimeter formula: Height1+Height2+Breadth\")\n",
    "    print(f\"Perimeter of Triangle:{height1+height2+breadth1}\")"
   ]
  },
  {
   "cell_type": "code",
   "execution_count": 44,
   "id": "d0f38679-b3d4-4148-aa37-c3810b8b5eef",
   "metadata": {},
   "outputs": [
    {
     "name": "stdin",
     "output_type": "stream",
     "text": [
      "Height: 32\n",
      "Breadth: 34\n"
     ]
    },
    {
     "name": "stdout",
     "output_type": "stream",
     "text": [
      "Area formula: (Height*Breadth)/2\n",
      "Area of Triangle: 544.0\n"
     ]
    },
    {
     "name": "stdin",
     "output_type": "stream",
     "text": [
      "Height1: 2\n",
      "Height2: 4\n",
      "Breadth: 4\n"
     ]
    },
    {
     "name": "stdout",
     "output_type": "stream",
     "text": [
      "Perimeter formula: Height1+Height2+Breadth\n",
      "Perimeter of Triangle:10\n"
     ]
    }
   ],
   "source": [
    "triangle()"
   ]
  },
  {
   "cell_type": "code",
   "execution_count": null,
   "id": "be902e24-a207-4ed5-981f-b96dab1427f7",
   "metadata": {},
   "outputs": [],
   "source": []
  }
 ],
 "metadata": {
  "kernelspec": {
   "display_name": "Python 3 (ipykernel)",
   "language": "python",
   "name": "python3"
  },
  "language_info": {
   "codemirror_mode": {
    "name": "ipython",
    "version": 3
   },
   "file_extension": ".py",
   "mimetype": "text/x-python",
   "name": "python",
   "nbconvert_exporter": "python",
   "pygments_lexer": "ipython3",
   "version": "3.12.7"
  }
 },
 "nbformat": 4,
 "nbformat_minor": 5
}
