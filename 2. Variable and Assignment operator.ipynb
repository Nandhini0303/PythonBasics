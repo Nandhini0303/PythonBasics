{
 "cells": [
  {
   "cell_type": "raw",
   "id": "b9c41fcd-0ef2-4b84-899b-5efb330d50c4",
   "metadata": {},
   "source": [
    "print()\n"
   ]
  },
  {
   "cell_type": "code",
   "execution_count": 4,
   "id": "e3a66ef1-e9a1-4f5b-a330-795440bf5697",
   "metadata": {},
   "outputs": [
    {
     "name": "stdout",
     "output_type": "stream",
     "text": [
      "add 3\n"
     ]
    }
   ],
   "source": [
    "a=1\n",
    "b=2\n",
    "add=a+b\n",
    "print(\"add\",add)\n"
   ]
  },
  {
   "cell_type": "code",
   "execution_count": 3,
   "id": "6984a24d-c6b4-4cbb-95f2-eb47da9cb46c",
   "metadata": {},
   "outputs": [
    {
     "name": "stdout",
     "output_type": "stream",
     "text": [
      "('add', '1020')\n"
     ]
    }
   ],
   "source": [
    "num1=\"10\"\n",
    "num2=\"20\"\n",
    "add=num1+num2\n",
    "print((\"add\",add))"
   ]
  },
  {
   "cell_type": "code",
   "execution_count": null,
   "id": "49c71ca5-31fe-4e7f-a07d-833487c6a6a2",
   "metadata": {},
   "outputs": [],
   "source": []
  },
  {
   "cell_type": "code",
   "execution_count": null,
   "id": "eb1fc877-cc92-4949-94a3-4f777070e248",
   "metadata": {},
   "outputs": [],
   "source": []
  },
  {
   "cell_type": "code",
   "execution_count": null,
   "id": "5e777458-1364-493e-aacf-e7c84d507c32",
   "metadata": {},
   "outputs": [],
   "source": []
  }
 ],
 "metadata": {
  "kernelspec": {
   "display_name": "Python 3 (ipykernel)",
   "language": "python",
   "name": "python3"
  },
  "language_info": {
   "codemirror_mode": {
    "name": "ipython",
    "version": 3
   },
   "file_extension": ".py",
   "mimetype": "text/x-python",
   "name": "python",
   "nbconvert_exporter": "python",
   "pygments_lexer": "ipython3",
   "version": "3.12.7"
  }
 },
 "nbformat": 4,
 "nbformat_minor": 5
}
