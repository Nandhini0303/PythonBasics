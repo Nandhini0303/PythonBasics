{
 "cells": [
  {
   "cell_type": "code",
   "execution_count": 14,
   "id": "e7c53484-c998-408a-891f-decaa9f47f38",
   "metadata": {},
   "outputs": [],
   "source": [
    "#Subfields in AI"
   ]
  },
  {
   "cell_type": "code",
   "execution_count": 5,
   "id": "46cb421d-2ea6-406e-bead-b8bcf6b16783",
   "metadata": {},
   "outputs": [
    {
     "name": "stdout",
     "output_type": "stream",
     "text": [
      "Sub-fields in AI are:\n",
      "Machine Learning\n",
      "Neural Networks\n",
      "Vision\n",
      "Robotics\n",
      "Speech Processing\n",
      "Natural Language Processing\n"
     ]
    }
   ],
   "source": [
    "print(\"Sub-fields in AI are:\")\n",
    "a = ['Machine Learning', 'Neural Networks', 'Vision', 'Robotics', 'Speech Processing', 'Natural Language Processing']\n",
    "for items in a:\n",
    "    print(items)"
   ]
  },
  {
   "cell_type": "code",
   "execution_count": 13,
   "id": "1c050536-f751-47f8-afff-0e2596cc4496",
   "metadata": {},
   "outputs": [],
   "source": [
    "#OddEven"
   ]
  },
  {
   "cell_type": "code",
   "execution_count": 12,
   "id": "cfc7b636-e075-4b5a-822c-d25188f94209",
   "metadata": {},
   "outputs": [
    {
     "name": "stdin",
     "output_type": "stream",
     "text": [
      "Enter a number: 52452\n"
     ]
    },
    {
     "name": "stdout",
     "output_type": "stream",
     "text": [
      "52452 is Even Number\n"
     ]
    }
   ],
   "source": [
    "num = int(input(\"Enter a number:\"))\n",
    "if ((num%2)==1):\n",
    "    print(num,\"is Odd Number\")\n",
    "else:\n",
    "    print(num,\"is Even Number\")   \n",
    "    "
   ]
  },
  {
   "cell_type": "code",
   "execution_count": 15,
   "id": "bd5c2544-9494-41d3-8064-1750844ac195",
   "metadata": {},
   "outputs": [],
   "source": [
    "# Eligiblity of Marriage"
   ]
  },
  {
   "cell_type": "code",
   "execution_count": 34,
   "id": "ff543f73-9bfb-45d4-a393-1637f75a893b",
   "metadata": {},
   "outputs": [
    {
     "name": "stdin",
     "output_type": "stream",
     "text": [
      "Your Gender: Male\n",
      "Your age: 20\n"
     ]
    },
    {
     "name": "stdout",
     "output_type": "stream",
     "text": [
      "NOT ELIGIBLE\n"
     ]
    }
   ],
   "source": [
    "Gender = str(input(\"Your Gender:\"))\n",
    "Age = int(input(\"Your age:\"))\n",
    "if (Gender ==\"Male\" and Age>=21):\n",
    "    print(\"ELIGIBLE\")\n",
    "elif(Gender ==\"Female\" and Age>=18):\n",
    "    print(\"ELIGIBLE\")\n",
    "else:\n",
    "    print(\"NOT ELIGIBLE\")\n"
   ]
  },
  {
   "cell_type": "code",
   "execution_count": 35,
   "id": "974e9e83-8ccf-4716-802d-b2d006f1716e",
   "metadata": {},
   "outputs": [],
   "source": [
    "# Percentage of 10th mark"
   ]
  },
  {
   "cell_type": "code",
   "execution_count": 37,
   "id": "828e4e64-5352-498b-8d46-6fbdf400bb4b",
   "metadata": {},
   "outputs": [
    {
     "name": "stdin",
     "output_type": "stream",
     "text": [
      "Subject1 =  98\n",
      "Subject2 =  87\n",
      "Subject3 =  95\n",
      "Subject4 =  95\n",
      "Subject5 =  93\n"
     ]
    },
    {
     "name": "stdout",
     "output_type": "stream",
     "text": [
      "Total =  468\n",
      "Percentage =  93.60000000000001\n"
     ]
    }
   ],
   "source": [
    "a = int(input(\"Subject1 = \"))\n",
    "b = int(input(\"Subject2 = \"))\n",
    "c = int(input(\"Subject3 = \"))\n",
    "d = int(input(\"Subject4 = \"))\n",
    "e = int(input(\"Subject5 = \"))\n",
    "Total = a+b+c+d+e\n",
    "print(\"Total = \",Total)\n",
    "Percentage = (Total / 500)*100\n",
    "print(\"Percentage = \",Percentage)\n"
   ]
  },
  {
   "cell_type": "code",
   "execution_count": 38,
   "id": "664ddc11-1ae2-4698-8e5b-d119cd6cb894",
   "metadata": {},
   "outputs": [],
   "source": [
    "#print area and perimeter of triangle using class and functions"
   ]
  },
  {
   "cell_type": "code",
   "execution_count": 40,
   "id": "4178faf3-88b4-48a4-83b0-d1c067c815e4",
   "metadata": {},
   "outputs": [
    {
     "name": "stdin",
     "output_type": "stream",
     "text": [
      "Height: 32\n",
      "Breadth: 34\n"
     ]
    },
    {
     "name": "stdout",
     "output_type": "stream",
     "text": [
      "Area formula: (Height*Breadth)/2\n",
      "Area of Triangle: 544.0\n"
     ]
    },
    {
     "name": "stdin",
     "output_type": "stream",
     "text": [
      "Height1: 2\n",
      "Height2: 4\n",
      "Breadth: 4\n"
     ]
    },
    {
     "name": "stdout",
     "output_type": "stream",
     "text": [
      "Perimeter formula: Height1+Height2+Breadth\n",
      "Perimeter of Triangle:10\n"
     ]
    }
   ],
   "source": [
    "height = int(input(\"Height:\"))\n",
    "breadth = int(input(\"Breadth:\"))\n",
    "print(\"Area formula: (Height*Breadth)/2\")\n",
    "print(f\"Area of Triangle: {height*breadth/2}\")\n",
    "height1 = int(input(\"Height1:\"))\n",
    "height2 = int(input(\"Height2:\"))\n",
    "breadth1 = int(input(\"Breadth:\"))\n",
    "print(\"Perimeter formula: Height1+Height2+Breadth\")\n",
    "print(f\"Perimeter of Triangle:{height1+height2+breadth1}\")"
   ]
  },
  {
   "cell_type": "code",
   "execution_count": null,
   "id": "34d0ddcb-e581-47c3-8c9e-26bb994bcb59",
   "metadata": {},
   "outputs": [],
   "source": []
  }
 ],
 "metadata": {
  "kernelspec": {
   "display_name": "Python 3 (ipykernel)",
   "language": "python",
   "name": "python3"
  },
  "language_info": {
   "codemirror_mode": {
    "name": "ipython",
    "version": 3
   },
   "file_extension": ".py",
   "mimetype": "text/x-python",
   "name": "python",
   "nbconvert_exporter": "python",
   "pygments_lexer": "ipython3",
   "version": "3.12.7"
  }
 },
 "nbformat": 4,
 "nbformat_minor": 5
}
