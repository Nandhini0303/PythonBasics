{
 "cells": [
  {
   "cell_type": "code",
   "execution_count": 7,
   "id": "5791c3ee-af2c-4b48-9744-3fead56283b3",
   "metadata": {},
   "outputs": [],
   "source": [
    "#Creating claas to Subfields in AI"
   ]
  },
  {
   "cell_type": "code",
   "execution_count": 4,
   "id": "d78c5fb5-80a0-4a9f-b156-8382c7941131",
   "metadata": {},
   "outputs": [],
   "source": [
    "class SubfieldsInAI():\n",
    "    def Subfields():\n",
    "        print(\"Sub-fields in AI are:\")\n",
    "        a = ['Machine Learning', 'Neural Networks', 'Vision', 'Robotics', 'Speech Processing', 'Natural Language Processing']\n",
    "        for items in a:\n",
    "            print(items)\n",
    "\n"
   ]
  },
  {
   "cell_type": "code",
   "execution_count": 5,
   "id": "d973239e-67ba-43ba-bff3-043bce615171",
   "metadata": {},
   "outputs": [
    {
     "name": "stdout",
     "output_type": "stream",
     "text": [
      "Sub-fields in AI are:\n",
      "Machine Learning\n",
      "Neural Networks\n",
      "Vision\n",
      "Robotics\n",
      "Speech Processing\n",
      "Natural Language Processing\n"
     ]
    }
   ],
   "source": [
    "SubfieldsInAI.Subfields()"
   ]
  },
  {
   "cell_type": "code",
   "execution_count": 6,
   "id": "886c4ea4-8238-451f-979d-da87432009b6",
   "metadata": {},
   "outputs": [],
   "source": [
    "# Creating Class to check wheteher the number is odd or even"
   ]
  },
  {
   "cell_type": "code",
   "execution_count": 8,
   "id": "dd708650-0499-4dc9-865c-8fb3837a4dda",
   "metadata": {},
   "outputs": [],
   "source": [
    "class OddEven():\n",
    "    def OddEven():\n",
    "        num = int(input(\"Enter a number:\"))\n",
    "        if((num%2)==1):\n",
    "            print(num,\"is Odd Number\")\n",
    "        else:\n",
    "            print(num,\"is Even Number\")  \n",
    "   \n",
    "    "
   ]
  },
  {
   "cell_type": "code",
   "execution_count": 9,
   "id": "d809cb9c-f4d0-406e-a536-4b26a219ed53",
   "metadata": {},
   "outputs": [
    {
     "name": "stdin",
     "output_type": "stream",
     "text": [
      "Enter a number: 52452\n"
     ]
    },
    {
     "name": "stdout",
     "output_type": "stream",
     "text": [
      "52452 is Even Number\n"
     ]
    }
   ],
   "source": [
    "OddEven.OddEven()"
   ]
  },
  {
   "cell_type": "code",
   "execution_count": 10,
   "id": "89b571da-0302-4289-af7d-6ab0ed4a6b8a",
   "metadata": {},
   "outputs": [],
   "source": [
    "# Creating class to check the eligibility of the marriage\n"
   ]
  },
  {
   "cell_type": "code",
   "execution_count": 11,
   "id": "afe78869-028e-4006-ad03-bc4597dc2709",
   "metadata": {},
   "outputs": [],
   "source": [
    "class EligiblityForMarriage():\n",
    "        def Eligible():\n",
    "            Gender = str(input(\"Your Gender:\"))\n",
    "            Age = int(input(\"Your age:\"))\n",
    "            if (Gender ==\"Male\" and Age>=21):\n",
    "                print(\"ELIGIBLE\")\n",
    "            elif(Gender ==\"Female\" and Age>=18):\n",
    "                print(\"ELIGIBLE\")\n",
    "            else:\n",
    "                print(\"NOT ELIGIBLE\")"
   ]
  },
  {
   "cell_type": "code",
   "execution_count": 12,
   "id": "563bb8d5-17f1-43f9-bcdb-1e78f78fd834",
   "metadata": {},
   "outputs": [
    {
     "name": "stdin",
     "output_type": "stream",
     "text": [
      "Your Gender: Male\n",
      "Your age: 20\n"
     ]
    },
    {
     "name": "stdout",
     "output_type": "stream",
     "text": [
      "NOT ELIGIBLE\n"
     ]
    }
   ],
   "source": [
    "EligiblityForMarriage.Eligible()"
   ]
  },
  {
   "cell_type": "code",
   "execution_count": 13,
   "id": "e5ad7dfe-41ed-43fb-9998-e814412dee2d",
   "metadata": {},
   "outputs": [],
   "source": [
    "#Creating class for calculate the percentage of your 10th mark"
   ]
  },
  {
   "cell_type": "code",
   "execution_count": 14,
   "id": "9202ea1c-2b91-41f1-913b-b811728522a1",
   "metadata": {},
   "outputs": [],
   "source": [
    "class FindPercent():\n",
    "    def percentage():\n",
    "        a = int(input(\"Subject1 = \"))\n",
    "        b = int(input(\"Subject2 = \"))\n",
    "        c = int(input(\"Subject3 = \"))\n",
    "        d = int(input(\"Subject4 = \"))\n",
    "        e = int(input(\"Subject5 = \"))\n",
    "        Total = a+b+c+d+e\n",
    "        print(\"Total = \",Total)\n",
    "        Percentage = (Total / 500)*100\n",
    "        print(\"Percentage = \",Percentage)"
   ]
  },
  {
   "cell_type": "code",
   "execution_count": 15,
   "id": "b75a5b9c-0281-46b5-b800-a67319edf3bc",
   "metadata": {},
   "outputs": [
    {
     "name": "stdin",
     "output_type": "stream",
     "text": [
      "Subject1 =  98\n",
      "Subject2 =  87\n",
      "Subject3 =  95\n",
      "Subject4 =  95\n",
      "Subject5 =  93\n"
     ]
    },
    {
     "name": "stdout",
     "output_type": "stream",
     "text": [
      "Total =  468\n",
      "Percentage =  93.60000000000001\n"
     ]
    }
   ],
   "source": [
    "FindPercent.percentage()"
   ]
  },
  {
   "cell_type": "code",
   "execution_count": 23,
   "id": "fb0919d5-0212-4850-824e-ef7ad7742a5c",
   "metadata": {},
   "outputs": [],
   "source": [
    "#Creating class for print area and perimeter of triangle using class and functions"
   ]
  },
  {
   "cell_type": "code",
   "execution_count": 20,
   "id": "59f84ea3-bb38-4c61-8b37-6a21b9c06709",
   "metadata": {},
   "outputs": [],
   "source": [
    "class triangle():\n",
    "    def triangle():\n",
    "        height = int(input(\"Height:\"))\n",
    "        breadth = int(input(\"Breadth:\"))\n",
    "        print(\"Area formula: (Height*Breadth)/2\")\n",
    "        print(f\"Area of Triangle: {height*breadth/2}\")\n",
    "        height1 = int(input(\"Height1:\"))\n",
    "        height2 = int(input(\"Height2:\"))\n",
    "        breadth1 = int(input(\"Breadth:\"))\n",
    "        print(\"Perimeter formula: Height1+Height2+Breadth\")\n",
    "        print(f\"Perimeter of Triangle:{height1+height2+breadth1}\")"
   ]
  },
  {
   "cell_type": "code",
   "execution_count": 22,
   "id": "34c84d0a-5c0f-45fd-80d7-28e84d651593",
   "metadata": {},
   "outputs": [
    {
     "name": "stdin",
     "output_type": "stream",
     "text": [
      "Height: 32\n",
      "Breadth: 34\n"
     ]
    },
    {
     "name": "stdout",
     "output_type": "stream",
     "text": [
      "Area formula: (Height*Breadth)/2\n",
      "Area of Triangle: 544.0\n"
     ]
    },
    {
     "name": "stdin",
     "output_type": "stream",
     "text": [
      "Height1: 2\n",
      "Height2: 4\n",
      "Breadth: 4\n"
     ]
    },
    {
     "name": "stdout",
     "output_type": "stream",
     "text": [
      "Perimeter formula: Height1+Height2+Breadth\n",
      "Perimeter of Triangle:10\n"
     ]
    }
   ],
   "source": [
    "triangle.triangle()"
   ]
  },
  {
   "cell_type": "code",
   "execution_count": null,
   "id": "4d872227-95a5-49bd-ae54-783f5f4649d4",
   "metadata": {},
   "outputs": [],
   "source": []
  }
 ],
 "metadata": {
  "kernelspec": {
   "display_name": "Python 3 (ipykernel)",
   "language": "python",
   "name": "python3"
  },
  "language_info": {
   "codemirror_mode": {
    "name": "ipython",
    "version": 3
   },
   "file_extension": ".py",
   "mimetype": "text/x-python",
   "name": "python",
   "nbconvert_exporter": "python",
   "pygments_lexer": "ipython3",
   "version": "3.12.7"
  }
 },
 "nbformat": 4,
 "nbformat_minor": 5
}
