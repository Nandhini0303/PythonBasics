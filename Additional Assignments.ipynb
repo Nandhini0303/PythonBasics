{
 "cells": [
  {
   "cell_type": "code",
   "execution_count": 1,
   "id": "3bda1ba6-c2bb-4b2a-87e5-29d557f6c9e9",
   "metadata": {},
   "outputs": [
    {
     "name": "stdout",
     "output_type": "stream",
     "text": [
      "HOPE AI\n"
     ]
    }
   ],
   "source": [
    "print(\"HOPE AI\")\n"
   ]
  },
  {
   "cell_type": "code",
   "execution_count": 2,
   "id": "92b52acc-9f6a-4e27-82c3-8973538e39c2",
   "metadata": {},
   "outputs": [
    {
     "name": "stdin",
     "output_type": "stream",
     "text": [
      "Enter your institute name?: HOPE AI\n"
     ]
    },
    {
     "name": "stdout",
     "output_type": "stream",
     "text": [
      "HOPE AI\n"
     ]
    }
   ],
   "source": [
    "# Buy Inputs\n",
    "name = str(input(\"Enter your institute name?:\"))\n",
    "print(name)"
   ]
  },
  {
   "cell_type": "code",
   "execution_count": 5,
   "id": "b3e6f6e1-77fc-424e-befa-bca406eded1a",
   "metadata": {},
   "outputs": [
    {
     "name": "stdin",
     "output_type": "stream",
     "text": [
      "Enter your name: Raj\n"
     ]
    },
    {
     "name": "stdout",
     "output_type": "stream",
     "text": [
      "Raj\n"
     ]
    },
    {
     "name": "stdin",
     "output_type": "stream",
     "text": [
      "Enter your Age: 15\n"
     ]
    },
    {
     "name": "stdout",
     "output_type": "stream",
     "text": [
      "15\n"
     ]
    },
    {
     "name": "stdin",
     "output_type": "stream",
     "text": [
      "Enter your SchoolName: Guru School\n"
     ]
    },
    {
     "name": "stdout",
     "output_type": "stream",
     "text": [
      "Guru School\n"
     ]
    },
    {
     "name": "stdin",
     "output_type": "stream",
     "text": [
      "Enter your Degree: B.E.CSE\n"
     ]
    },
    {
     "name": "stdout",
     "output_type": "stream",
     "text": [
      "B.E.CSE\n"
     ]
    }
   ],
   "source": [
    "# Multiple inputs\n",
    "name = str(input(\"Enter your name:\"))\n",
    "print(name)\n",
    "Age = int(input(\"Enter your Age:\"))\n",
    "print(Age)\n",
    "SchoolName = str(input(\"Enter your SchoolName:\"))\n",
    "print(SchoolName)\n",
    "Degree = str(input(\"Enter your Degree:\"))\n",
    "print(Degree)"
   ]
  },
  {
   "cell_type": "code",
   "execution_count": 7,
   "id": "64465eee-cc15-4a15-be5f-2b0c01de0a47",
   "metadata": {},
   "outputs": [
    {
     "name": "stdout",
     "output_type": "stream",
     "text": [
      "a= 43\n",
      "b= 34\n",
      "add =  77\n"
     ]
    }
   ],
   "source": [
    "# Addition\n",
    "a=43\n",
    "print(\"a=\",a)\n",
    "b=34\n",
    "print(\"b=\",b)\n",
    "add= a+b\n",
    "print(\"add = \",add)"
   ]
  },
  {
   "cell_type": "code",
   "execution_count": 8,
   "id": "78d5c5a9-b389-4ed5-9c4e-0ed1f6259306",
   "metadata": {},
   "outputs": [
    {
     "name": "stdout",
     "output_type": "stream",
     "text": [
      "a= 43\n",
      "b= 34\n",
      "Sub= 9\n"
     ]
    }
   ],
   "source": [
    "# Subtraction\n",
    "a = 43\n",
    "print(\"a=\",a)\n",
    "b = 34\n",
    "print(\"b=\",b)\n",
    "Sub = a-b\n",
    "print(\"Sub=\",Sub)"
   ]
  },
  {
   "cell_type": "code",
   "execution_count": 9,
   "id": "44a2d368-654d-496d-bf00-ca31bc5c2d51",
   "metadata": {},
   "outputs": [
    {
     "name": "stdout",
     "output_type": "stream",
     "text": [
      "a= 63\n",
      "b= 97\n",
      "Mul= 6111\n"
     ]
    }
   ],
   "source": [
    "# Multiplication\n",
    "a=63\n",
    "print(\"a=\",a)\n",
    "b=97\n",
    "print(\"b=\",b)\n",
    "Mul = a*b\n",
    "print(\"Mul=\",Mul)"
   ]
  },
  {
   "cell_type": "code",
   "execution_count": 16,
   "id": "a7af56c2-a842-4120-9908-e4635b1e442e",
   "metadata": {},
   "outputs": [
    {
     "name": "stdout",
     "output_type": "stream",
     "text": [
      "a= 76\n",
      "b= 31\n",
      "Float Div= 2.4516129032258065\n"
     ]
    }
   ],
   "source": [
    "a=76\n",
    "print(\"a=\",a)\n",
    "b=31\n",
    "print(\"b=\",b)\n",
    "num= a/b\n",
    "print(\"Float Div=\",num)"
   ]
  },
  {
   "cell_type": "code",
   "execution_count": 18,
   "id": "0aef7510-8596-4c9e-b2cd-04242583d2a2",
   "metadata": {},
   "outputs": [
    {
     "name": "stdout",
     "output_type": "stream",
     "text": [
      "0\n",
      "1\n",
      "2\n",
      "3\n",
      "4\n",
      "5\n",
      "6\n",
      "7\n",
      "8\n",
      "9\n",
      "10\n",
      "11\n",
      "12\n",
      "13\n",
      "14\n",
      "15\n",
      "16\n",
      "17\n",
      "18\n",
      "19\n"
     ]
    }
   ],
   "source": [
    "# printing 0 to 20 using range\n",
    "for nums in range(0,20):\n",
    "    print(nums)"
   ]
  },
  {
   "cell_type": "code",
   "execution_count": 23,
   "id": "ba0af4d7-4a9f-4862-9d39-ddb03ff6182a",
   "metadata": {},
   "outputs": [
    {
     "name": "stdout",
     "output_type": "stream",
     "text": [
      "10 11 12 13 14 15 16 17 18 19 "
     ]
    }
   ],
   "source": [
    "for nums in range(10,20):\n",
    "    print(nums, end=\" \")"
   ]
  },
  {
   "cell_type": "code",
   "execution_count": 3,
   "id": "327a4ee4-1bcf-4894-9751-38b5ca1bbd45",
   "metadata": {},
   "outputs": [
    {
     "name": "stdout",
     "output_type": "stream",
     "text": [
      "[10, 20, 14, 55, 43, 87, 76]\n",
      "Number of elements in the List2:\n",
      "  7\n"
     ]
    }
   ],
   "source": [
    "List2 = [10,20,14,55,43,87,76]\n",
    "print(List2)\n",
    "len_List2 = len(List2)\n",
    "print(\"Number of elements in the List2:\\n \",len_List2,)"
   ]
  },
  {
   "cell_type": "code",
   "execution_count": 14,
   "id": "48e50740-27a1-4be3-b006-427be37018a3",
   "metadata": {},
   "outputs": [
    {
     "name": "stdout",
     "output_type": "stream",
     "text": [
      "Artificial Intelligence\n",
      "A\n",
      "r\n",
      "t\n",
      "i\n",
      "f\n",
      "i\n",
      "c\n",
      "i\n",
      "a\n",
      "l\n",
      " \n",
      "I\n",
      "n\n",
      "t\n",
      "e\n",
      "l\n",
      "l\n",
      "i\n",
      "g\n",
      "e\n",
      "n\n",
      "c\n",
      "e\n"
     ]
    }
   ],
   "source": [
    "print(\"Artificial Intelligence\")\n",
    "text= \"Artificial Intelligence\"\n",
    "for letter in text:\n",
    "    print(letter)"
   ]
  },
  {
   "cell_type": "code",
   "execution_count": 15,
   "id": "163d83ad-2d0c-4455-ac8d-6b51ee9ab0ea",
   "metadata": {},
   "outputs": [
    {
     "name": "stdout",
     "output_type": "stream",
     "text": [
      "-Your Name-\n",
      "-Your Age-\n",
      "-Your profession-\n"
     ]
    }
   ],
   "source": [
    "print(\"-Your Name-\")\n",
    "print(\"-Your Age-\")\n",
    "print(\"-Your profession-\")"
   ]
  },
  {
   "cell_type": "code",
   "execution_count": 16,
   "id": "e8c86f3b-5114-4721-ab10-3160970e9038",
   "metadata": {},
   "outputs": [
    {
     "name": "stdout",
     "output_type": "stream",
     "text": [
      "(1, 'Welcome', 2, 'HOPE')\n"
     ]
    }
   ],
   "source": [
    "Tuple=(1,'Welcome',2,'HOPE')\n",
    "print(Tuple)"
   ]
  },
  {
   "cell_type": "code",
   "execution_count": 17,
   "id": "2af7a152-70d8-47e7-982d-59e7d0f870ab",
   "metadata": {},
   "outputs": [
    {
     "name": "stdout",
     "output_type": "stream",
     "text": [
      "((0, 1, 2, 3), ('python', 'hope'))\n"
     ]
    }
   ],
   "source": [
    "tup1=(0,1,2,3)\n",
    "tup2=(\"python\",\"hope\")\n",
    "tup3= ((tup1),(tup2))\n",
    "print(tup3)"
   ]
  },
  {
   "cell_type": "code",
   "execution_count": 26,
   "id": "73cd7fa5-a01b-4177-a90c-eb74abaeeabe",
   "metadata": {},
   "outputs": [
    {
     "name": "stdout",
     "output_type": "stream",
     "text": [
      "(20, 10, 16, 19, 25, 1, 276, 188)\n",
      "20 is even\n",
      "10 is even\n",
      "16 is even\n",
      "19 is odd\n",
      "25 is odd\n",
      "1 is odd\n",
      "276 is even\n",
      "188 is even\n"
     ]
    }
   ],
   "source": [
    "list=(20,10,16,19,25,1,276,188)\n",
    "print(list)\n",
    "for num in list:\n",
    "    if (num%2==1):\n",
    "        print(num,\"is odd\")\n",
    "    else:\n",
    "        print(num,\"is even\")\n",
    "    \n",
    "        \n",
    "\n",
    "    "
   ]
  },
  {
   "cell_type": "code",
   "execution_count": 28,
   "id": "092ae3e1-f35a-4e2a-9fe8-3eea50ae6c3c",
   "metadata": {},
   "outputs": [
    {
     "name": "stdout",
     "output_type": "stream",
     "text": [
      "value: 10\n",
      "CORRECT\n"
     ]
    }
   ],
   "source": [
    "i=10\n",
    "print(\"value:\",i)\n",
    "if (i==10):\n",
    "    print(\"CORRECT\")"
   ]
  },
  {
   "cell_type": "code",
   "execution_count": 43,
   "id": "a6992143-35b6-4e37-8f14-58616e22dce6",
   "metadata": {},
   "outputs": [
    {
     "name": "stdin",
     "output_type": "stream",
     "text": [
      "Enter the password: HOPE@123\n"
     ]
    },
    {
     "name": "stdout",
     "output_type": "stream",
     "text": [
      "Your Password is Correct\n"
     ]
    }
   ],
   "source": [
    "correct_password = \"HOPE@123\"\n",
    "user_password = str(input(\"Enter the password:\"))\n",
    "#print(user_password)\n",
    "if(user_password == correct_password):\n",
    "    print(\"Your Password is Correct\")\n",
    "else:\n",
    "    print(\"wrong\")\n"
   ]
  },
  {
   "cell_type": "code",
   "execution_count": 48,
   "id": "44df57c7-513a-468d-8101-6144172fe3df",
   "metadata": {},
   "outputs": [
    {
     "name": "stdin",
     "output_type": "stream",
     "text": [
      "Enter any number: 1\n"
     ]
    },
    {
     "name": "stdout",
     "output_type": "stream",
     "text": [
      "No is positive\n"
     ]
    }
   ],
   "source": [
    "No= int(input(\"Enter any number:\"))\n",
    "if(No>0):\n",
    "    print(\"No is positive\")\n",
    "else:\n",
    "    print(\"No is negative\")\n",
    " \n",
    "     \n",
    "     \n",
    "         \n",
    "        \n",
    "      \n",
    "        \n",
    "\n",
    "      "
   ]
  },
  {
   "cell_type": "code",
   "execution_count": 63,
   "id": "5b6ed8ae-747a-425b-81cb-273cc36fe092",
   "metadata": {},
   "outputs": [
    {
     "name": "stdin",
     "output_type": "stream",
     "text": [
      "Enter the number to check: 22\n"
     ]
    },
    {
     "name": "stdout",
     "output_type": "stream",
     "text": [
      "No is not divisible by 5 And The Remainder is 2.\n"
     ]
    }
   ],
   "source": [
    "No = int(input(\"Enter the number to check:\"))\n",
    "a=No%5\n",
    "if(a == 0):\n",
    "    print(\"No is divisible by 5\")\n",
    "else:\n",
    "    print(f\"No is not divisible by 5 And The Remainder is {a}.\" )\n"
   ]
  },
  {
   "cell_type": "code",
   "execution_count": null,
   "id": "9474d437-ebdd-42ce-9a7d-76a590ae3439",
   "metadata": {},
   "outputs": [],
   "source": []
  }
 ],
 "metadata": {
  "kernelspec": {
   "display_name": "Python 3 (ipykernel)",
   "language": "python",
   "name": "python3"
  },
  "language_info": {
   "codemirror_mode": {
    "name": "ipython",
    "version": 3
   },
   "file_extension": ".py",
   "mimetype": "text/x-python",
   "name": "python",
   "nbconvert_exporter": "python",
   "pygments_lexer": "ipython3",
   "version": "3.12.7"
  }
 },
 "nbformat": 4,
 "nbformat_minor": 5
}
