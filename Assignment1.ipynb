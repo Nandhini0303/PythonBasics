{
 "cells": [
  {
   "cell_type": "code",
   "execution_count": 1,
   "id": "a60f1083-7ab7-4381-8e7e-965ae2294862",
   "metadata": {},
   "outputs": [
    {
     "name": "stdout",
     "output_type": "stream",
     "text": [
      "Welcome to Assignment-1\n"
     ]
    }
   ],
   "source": [
    "print(\"Welcome to Assignment-1\")"
   ]
  },
  {
   "cell_type": "code",
   "execution_count": 3,
   "id": "160dd95e-f07c-4653-a1af-cff2e36c2375",
   "metadata": {},
   "outputs": [
    {
     "name": "stdout",
     "output_type": "stream",
     "text": [
      "Num1 =  10\n",
      "Num2 =  30\n",
      "Add =  40\n"
     ]
    }
   ],
   "source": [
    "Num1=10\n",
    "print(\"Num1 = \",Num1)\n",
    "Num2=30\n",
    "print(\"Num2 = \",Num2)\n",
    "Add = Num1 + Num2\n",
    "print(\"Add = \",Add)"
   ]
  },
  {
   "cell_type": "code",
   "execution_count": 33,
   "id": "be419fe1-b691-418b-9471-654427662cea",
   "metadata": {},
   "outputs": [
    {
     "name": "stdin",
     "output_type": "stream",
     "text": [
      "Enter the BMI Index: 34\n"
     ]
    },
    {
     "name": "stdout",
     "output_type": "stream",
     "text": [
      " Very Overweight\n"
     ]
    }
   ],
   "source": [
    "# Body Mass Index\n",
    "num = int(input(\"Enter the BMI Index:\"))\n",
    "if(num<18.5):\n",
    "     print(\"Under Weight\")\n",
    "elif(num<=24.5):\n",
    "    print(\"Normal Weight\")\n",
    "elif(num<=25):                    \n",
    "    print(\"Over Weight\")\n",
    "elif(num>=34):\n",
    "    print(\" Very Overweight\")\n",
    "else:\n",
    "    print(\" No weight\")\n",
    "\n",
    "            \n",
    "     \n",
    "         \n",
    "            "
   ]
  },
  {
   "cell_type": "code",
   "execution_count": null,
   "id": "ac4070a8-7a28-4775-bef6-fce26a2e1993",
   "metadata": {},
   "outputs": [],
   "source": []
  },
  {
   "cell_type": "code",
   "execution_count": null,
   "id": "396fd205-69cf-4294-80f2-577e19ca3ae3",
   "metadata": {},
   "outputs": [],
   "source": []
  },
  {
   "cell_type": "code",
   "execution_count": null,
   "id": "053dffa3-07f0-4975-bb29-b1eb5bd03bd0",
   "metadata": {},
   "outputs": [],
   "source": []
  },
  {
   "cell_type": "code",
   "execution_count": null,
   "id": "7b8b0e2c-e847-4291-abe9-fce49efb7697",
   "metadata": {},
   "outputs": [],
   "source": []
  },
  {
   "cell_type": "code",
   "execution_count": null,
   "id": "78bbd7e3-0219-4a20-be04-cd1a18a1b735",
   "metadata": {},
   "outputs": [],
   "source": []
  }
 ],
 "metadata": {
  "kernelspec": {
   "display_name": "Python 3 (ipykernel)",
   "language": "python",
   "name": "python3"
  },
  "language_info": {
   "codemirror_mode": {
    "name": "ipython",
    "version": 3
   },
   "file_extension": ".py",
   "mimetype": "text/x-python",
   "name": "python",
   "nbconvert_exporter": "python",
   "pygments_lexer": "ipython3",
   "version": "3.12.7"
  }
 },
 "nbformat": 4,
 "nbformat_minor": 5
}
